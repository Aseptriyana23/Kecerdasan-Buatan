{
 "cells": [
  {
   "cell_type": "code",
   "execution_count": 1,
   "id": "5ab71a9d-9a81-4446-9b1c-6509f49d7bd3",
   "metadata": {},
   "outputs": [],
   "source": [
    "company_detail_list = [\n",
    "      {\n",
    "          'name': 'Company 1',\n",
    "          'domain': 'Retail',\n",
    "          'country': 'United States'\n",
    "      },\n",
    "      {\n",
    "          'name': 'Company 2',\n",
    "          'domain': 'Technology',\n",
    "          'country': 'United Kingdom'\n",
    "      },\n",
    "      {\n",
    "          'name': 'Company 3',\n",
    "          'domain': 'Healthcare',\n",
    "          'country': 'United States'\n",
    "      }\n",
    "  ]\n",
    "\n",
    "employee_detail_list = [\n",
    "     {\n",
    "          'name': 'EMP-0001',\n",
    "          'first_name': 'John',\n",
    "          'last_name': 'Doe',\n",
    "          'full_name': 'John Doe',\n",
    "          'company': 'Company 1',\n",
    "          'nationality': 'Australia'\n",
    "      },\n",
    "      {\n",
    "          'name': 'EMP-0002',\n",
    "          'first_name': 'Tom',\n",
    "          'last_name': 'Smith',\n",
    "          'full_name': 'Tom Smith',\n",
    "          'company': 'Company 2',\n",
    "          'nationality': 'United States'\n",
    "      },\n",
    "      {\n",
    "          'name': 'EMP-0003',\n",
    "          'first_name': 'Andrew',\n",
    "          'last_name': 'Sebastian',\n",
    "          'full_name': 'Andrew Sebastian',\n",
    "          'company': 'Company 3',\n",
    "          'nationality': 'United States'\n",
    "      },\n",
    "      {\n",
    "          'name': 'EMP-0005',\n",
    "          'first_name': 'Ying Han',\n",
    "          'last_name': 'Tan',\n",
    "          'full_name': 'Ying Han Tan',\n",
    "          'company': 'Company 1',\n",
    "          'nationality': 'Australia'\n",
    "      },\n",
    "      {\n",
    "          'name': 'EMP-0015',\n",
    "          'first_name': 'Kenneth',\n",
    "          'last_name': 'Ng',\n",
    "          'full_name': 'Kenneth Ng',\n",
    "          'company': 'Company 3',\n",
    "          'nationality': 'United States'\n",
    "      },\n",
    "      {\n",
    "          'name': 'EMP-0018',\n",
    "          'first_name': 'Rubby',\n",
    "          'last_name': 'Lee',\n",
    "          'full_name': 'Rubby Lee',\n",
    "          'company': 'Company 2',\n",
    "          'nationality': 'Hong Kong'\n",
    "      },\n",
    "     {\n",
    "          'name': 'EMP-0017',\n",
    "          'first_name': 'Robert',\n",
    "          'last_name': 'White',\n",
    "          'full_name': 'Robert White',\n",
    "          'company': 'Company 1',\n",
    "          'nationality': 'United Kingdom'\n",
    "      }\n",
    "  ]"
   ]
  },
  {
   "cell_type": "code",
   "execution_count": 2,
   "id": "ba308338-db78-46f4-a776-117eb73f91b7",
   "metadata": {},
   "outputs": [
    {
     "name": "stdout",
     "output_type": "stream",
     "text": [
      "Task 1:\n",
      "{'name': 'Company 3'}\n",
      "{'name': 'Company 2'}\n",
      "{'name': 'Company 1'}\n"
     ]
    }
   ],
   "source": [
    "# Task 1: Print list of companies in the required format, one per line\n",
    "task_1_result = [{'name': company['name']} for company in sorted(company_detail_list, key=lambda x: x['name'], reverse=True)]\n",
    "\n",
    "print(\"Task 1:\")\n",
    "for item in task_1_result:\n",
    "    print(item)"
   ]
  },
  {
   "cell_type": "code",
   "execution_count": 3,
   "id": "e0e78da4-fd73-47fa-9942-a061dad64ba1",
   "metadata": {},
   "outputs": [
    {
     "name": "stdout",
     "output_type": "stream",
     "text": [
      "Task 2:\n",
      "Company 1: Retail (United States)\n",
      "Company 2: Technology (United Kingdom)\n",
      "Company 3: Healthcare (United States)\n"
     ]
    }
   ],
   "source": [
    "# Task 2: Print all Domain values for each company\n",
    "print(\"Task 2:\")\n",
    "for company in company_detail_list:\n",
    "    print(f\"{company['name']}: {company['domain']} ({company['country']})\")"
   ]
  },
  {
   "cell_type": "code",
   "execution_count": 5,
   "id": "c744222c-3687-41bd-b0a4-e2519b95cb7a",
   "metadata": {},
   "outputs": [
    {
     "name": "stdout",
     "output_type": "stream",
     "text": [
      "Task 3:\n",
      "Retail:\n",
      "  - John Doe\n",
      "  - Ying Han Tan\n",
      "  - Robert White\n",
      "Technology:\n",
      "  - Tom Smith\n",
      "  - Rubby Lee\n",
      "Healthcare:\n",
      "  - Andrew Sebastian\n",
      "  - Kenneth Ng\n"
     ]
    }
   ],
   "source": [
    "# Task 3: Group employees by domain and print one per line\n",
    "task_3_result = {}\n",
    "for company in company_detail_list:\n",
    "    task_3_result[company['domain']] = [\n",
    "        emp['full_name'] for emp in employee_detail_list if emp['company'] == company['name']\n",
    "    ]\n",
    "\n",
    "print(\"Task 3:\")\n",
    "for domain, employees in task_3_result.items():\n",
    "    print(f\"{domain}:\")\n",
    "    for employee in employees:\n",
    "        print(f\"  - {employee}\")\n"
   ]
  },
  {
   "cell_type": "code",
   "execution_count": 6,
   "id": "493dbd8d-866e-4d08-b964-72aa32abc68a",
   "metadata": {},
   "outputs": [
    {
     "name": "stdout",
     "output_type": "stream",
     "text": [
      "Task 4:\n",
      "full_name: John Doe\n",
      "company: Company 1\n",
      "country: United States\n",
      "\n",
      "full_name: Tom Smith\n",
      "company: Company 2\n",
      "country: United Kingdom\n",
      "\n",
      "full_name: Andrew Sebastian\n",
      "company: Company 3\n",
      "country: United States\n",
      "\n",
      "full_name: Ying Han Tan\n",
      "company: Company 1\n",
      "country: United States\n",
      "\n",
      "full_name: Kenneth Ng\n",
      "company: Company 3\n",
      "country: United States\n",
      "\n",
      "full_name: Rubby Lee\n",
      "company: Company 2\n",
      "country: United Kingdom\n",
      "\n",
      "full_name: Robert White\n",
      "company: Company 1\n",
      "country: United States\n",
      "\n"
     ]
    }
   ],
   "source": [
    "# Task 4: Create a list of dictionaries with full_name, company, and country, and print each attribute on a new line\n",
    "task_4_result = [\n",
    "    {\n",
    "        'full_name': emp['full_name'],\n",
    "        'company': emp['company'],\n",
    "        'country': next(\n",
    "            company['country'] for company in company_detail_list if company['name'] == emp['company']\n",
    "        )\n",
    "    }\n",
    "    for emp in employee_detail_list\n",
    "]\n",
    "\n",
    "print(\"Task 4:\")\n",
    "for entry in task_4_result:\n",
    "    print(\"full_name:\", entry['full_name'])\n",
    "    print(\"company:\", entry['company'])\n",
    "    print(\"country:\", entry['country'])\n",
    "    print()  # Blank line for better readability\n"
   ]
  },
  {
   "cell_type": "code",
   "execution_count": 7,
   "id": "116e5a9a-e471-4232-95d6-11ea98ef26d4",
   "metadata": {},
   "outputs": [
    {
     "name": "stdout",
     "output_type": "stream",
     "text": [
      "Task 5:\n",
      "Company: Company 1\n",
      "  Australia: 2\n",
      "  United Kingdom: 1\n",
      "Company: Company 2\n",
      "  United States: 1\n",
      "  Hong Kong: 1\n",
      "Company: Company 3\n",
      "  United States: 2\n"
     ]
    }
   ],
   "source": [
    "# Task 5: Count employees' nationalities per company and print each entry on a new line\n",
    "task_5_result = []\n",
    "for company in company_detail_list:\n",
    "    company_name = company['name']\n",
    "    nationality_count = {}\n",
    "    for emp in employee_detail_list:\n",
    "        if emp['company'] == company_name:\n",
    "            nationality = emp['nationality']\n",
    "            nationality_count[nationality] = nationality_count.get(nationality, 0) + 1\n",
    "    task_5_result.append({\n",
    "        'company': company_name,\n",
    "        'employee_nationality': nationality_count\n",
    "    })\n",
    "\n",
    "print(\"Task 5:\")\n",
    "for entry in task_5_result:\n",
    "    print(f\"Company: {entry['company']}\")\n",
    "    for nationality, count in entry['employee_nationality'].items():\n",
    "        print(f\"  {nationality}: {count}\")\n"
   ]
  },
  {
   "cell_type": "code",
   "execution_count": null,
   "id": "038fe8ef-fb61-417c-a59c-6771d7aca92c",
   "metadata": {},
   "outputs": [],
   "source": []
  }
 ],
 "metadata": {
  "kernelspec": {
   "display_name": "Python 3 (ipykernel)",
   "language": "python",
   "name": "python3"
  },
  "language_info": {
   "codemirror_mode": {
    "name": "ipython",
    "version": 3
   },
   "file_extension": ".py",
   "mimetype": "text/x-python",
   "name": "python",
   "nbconvert_exporter": "python",
   "pygments_lexer": "ipython3",
   "version": "3.12.4"
  }
 },
 "nbformat": 4,
 "nbformat_minor": 5
}
